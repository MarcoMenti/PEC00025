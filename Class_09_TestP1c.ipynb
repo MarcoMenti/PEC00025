{
 "cells": [
  {
   "cell_type": "markdown",
   "metadata": {},
   "source": [
    "Universidade Federal do Rio Grande do Sul (UFRGS)   \n",
    "Programa de Pós-Graduação em Engenharia Civil (PPGEC)   \n",
    "\n",
    "# PEC00025: Introduction to Vibration Theory\n",
    "\n",
    "\n",
    "## Test P1 (2022/1): time and frequency domain analysis of sdof systems\n",
    "\n",
    "---\n",
    "\n",
    "**NAME:** <br/>\n",
    "**CARD:** \n",
    "\n",
    "\n",
    "#### Instruções\n",
    "\n",
    "1. Entregar a resolução da prova em arquivo único, com no máximo 10Mb, até as 18h de hoje, 25 de abril de 2022.\n",
    "2. Recomenda-se verificar atentamente se todas as folhas da resolução foram incluídas no arquivo gerado, pois não serão aceitas entregas posteriores.\n",
    "3. Na primeira folha do arquivo deve constar claramente o NOME e o cartão de MATRÍCULA.\n",
    "4. A consulta ao material de estudo e o uso do computador para cálculos são LIVRES.\n",
    "5. A prova deve ser realizada INDIVIDUALMENTE, sem recorrer ao auxílio de colegas ou outras pessoas! Caso se verifique o descumprimento desta regra, todos os envolvidos na fraude terão a nota da prova zerada.\n"
   ]
  },
  {
   "cell_type": "code",
   "execution_count": 1,
   "metadata": {},
   "outputs": [],
   "source": [
    "# Importing Python modules required for this notebook\n",
    "# (this cell must be executed with \"shift+enter\" before any other Python cell)\n",
    "\n",
    "#import numpy as np\n",
    "#import matplotlib.pyplot as plt\n",
    "#from MRPy import *\n"
   ]
  },
  {
   "cell_type": "markdown",
   "metadata": {},
   "source": [
    "## Questão 1\n",
    "\n",
    "Um cabo com comportamento elástico linear é disposto horizontalmente.\n",
    "O cabo tem comprimento total $L = 4{\\rm m}$, \n",
    "rigidez axial $EA = 4000{\\rm kN}$, e uma massa $m = 20{\\rm kg}$ \n",
    "fixada no seu centro. O cabo tem uma protensão inicial $T_0 = 20{\\rm kN}$. \n",
    "O amortecimento do sistema é $\\zeta = 0.01$ (razão do crítico).\n",
    "A rigidez à flexão bem como a massa do cabo são desprezáveis.\n",
    "A aceleração da gravidade no local é $g = 9.81{\\rm m/s^2}$.\n",
    "O _grau de liberdade_ considerado é o deslocamento vertical da massa $m$.\n",
    "\n",
    "<img src=\"PEC00025A_221_P1_Q1.png\" alt=\"Question 1\" width=\"680px\"/>\n"
   ]
  },
  {
   "cell_type": "markdown",
   "metadata": {},
   "source": [
    "Admitindo-se uma condição de pequenos deslocamentos, pergunta-se:\n",
    "\n",
    "1. Qual o deslocamento $u_{\\rm est}$ devido ao peso próprio?\n",
    "2. Qual a frequência natural de vibração livre do sistema cabo-massa?\n",
    "3. Liberando-se a massa a partir da posição $u(0) = 0{\\rm m}$, sob ação da gravidade, qual a maior amplitude atingida por $u(t)$? \n",
    "4. Desconsiderando-se a parcela estática do deslocamento e dado um deslocamento inicial $u_0 = 4{\\rm cm}$, qual o tempo transcorrido até que a amplitude de vibração caia à metade deste valor? \n"
   ]
  },
  {
   "cell_type": "code",
   "execution_count": null,
   "metadata": {},
   "outputs": [],
   "source": []
  },
  {
   "cell_type": "markdown",
   "metadata": {},
   "source": [
    "## Questão 2\n",
    "\n",
    "A massa central do problema anterior é submetida a uma carga transiente, $F(t)$, dada pela função abaixo, \n",
    "com amplitude $F_0 = 500{\\rm N}$ e duração $T_{\\rm d} = 0.5{\\rm s}$. \n",
    "A variável $\\tau$ representa o tempo adimensionalizado por $T_{\\rm d}$.\n",
    "\n",
    "<img src=\"PEC00025A_221_P1_Q2.png\" alt=\"Question 2\" width=\"480px\"/>  \n"
   ]
  },
  {
   "cell_type": "markdown",
   "metadata": {},
   "source": [
    "Desconsiderando-se a parcela estática da resposta (devida ao peso próprio), pergunta-se:\n",
    "\n",
    "1. Qual o maior amplitude de deslocamento atingida?\n",
    "2. Qual o fator de amplificação dinâmica para este carregamento?\n"
   ]
  },
  {
   "cell_type": "code",
   "execution_count": null,
   "metadata": {},
   "outputs": [],
   "source": []
  },
  {
   "cell_type": "markdown",
   "metadata": {},
   "source": [
    "## Questão 3\n",
    "\n",
    "Uma viga com comportamento elástico linear é disposta horizontalmente.\n",
    "A viga tem comprimento total $L = 4{\\rm m}$, \n",
    "rigidez à flexão $EI = 6.5{\\rm kN m^2}$, e uma massa $m = 20{\\rm kg}$ \n",
    "fixada no seu centro.\n",
    "O amortecimento do sistema é $\\zeta = 0.01$ (razão do crítico).\n",
    "A massa da viga é desprezável.\n",
    "A aceleração da gravidade no local é $g = 9.81{\\rm m/s^2}$.\n",
    "O _grau de liberdade_ considerado é o deslocamento vertical da massa $m$.\n",
    "\n",
    "<img src=\"PEC00025A_221_P1_Q3.png\" alt=\"Question 2\" width=\"600px\"/>  \n"
   ]
  },
  {
   "cell_type": "markdown",
   "metadata": {},
   "source": [
    "Pergunta-se:\n",
    "\n",
    "1. Qual o deslocamento $u_{\\rm est}$ devido ao peso próprio?\n",
    "2. Qual a frequência natural de vibração livre do sistema viga-massa?\n",
    "3. Liberando-se a massa a partir da posição $u(0) = 0{\\rm m}$, qual a maior amplitude atingida por $u(t)$ devida à ação da gravidade? \n",
    "4. Desconsiderando-se a parcela estática do deslocamento e dado um deslocamento inicial $u_0 = 4{\\rm cm}$, qual o tempo transcorrido até que a amplitude de vibração caia à metade deste valor? \n"
   ]
  },
  {
   "cell_type": "code",
   "execution_count": null,
   "metadata": {},
   "outputs": [],
   "source": []
  },
  {
   "cell_type": "markdown",
   "metadata": {},
   "source": [
    "## Questão 4\n",
    "\n",
    "A extremidade esquerda da viga é submetida a uma aceleração sísmica $a(t)$ com densidade espectral $S_a(f)$,\n",
    "dada na figura abaixo, onde $\\sigma_a = 0.1g$ (10% da gravidade) e $r = 10$ (eixo das frequências em hertz). \n",
    "\n",
    "<img src=\"PEC00025A_221_P1_Q4.png\" alt=\"Question 2\" width=\"420px\"/>  \n"
   ]
  },
  {
   "cell_type": "markdown",
   "metadata": {},
   "source": [
    "Admitindo-se que a força sísmica na massa central é dada aproximadamente pelo produto da massa pela metade da \n",
    "aceleração no apoio esquerdo, conforme indicado na figura da viga, e fazendo-se a hipótese de pequenos deslocamentos, \n",
    "pergunta-se:\n",
    "\n",
    "1. Qual o valor r.m.s. da resposta em deslocamento $u(t)$?\n",
    "2. Qual o valor r.m.s. da resposta em aceleração $\\ddot{u}(t)$?\n",
    "2. Qual o valor de pico do deslocamento esperado para 1 minuto de excitação estacionária?\n"
   ]
  },
  {
   "cell_type": "code",
   "execution_count": null,
   "metadata": {},
   "outputs": [],
   "source": []
  }
 ],
 "metadata": {
  "kernelspec": {
   "display_name": "Python 3 (ipykernel)",
   "language": "python",
   "name": "python3"
  },
  "language_info": {
   "codemirror_mode": {
    "name": "ipython",
    "version": 3
   },
   "file_extension": ".py",
   "mimetype": "text/x-python",
   "name": "python",
   "nbconvert_exporter": "python",
   "pygments_lexer": "ipython3",
   "version": "3.8.3"
  }
 },
 "nbformat": 4,
 "nbformat_minor": 2
}
