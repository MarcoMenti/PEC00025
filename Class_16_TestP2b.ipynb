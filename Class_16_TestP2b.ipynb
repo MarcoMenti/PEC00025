{
 "cells": [
  {
   "cell_type": "markdown",
   "metadata": {},
   "source": [
    "Universidade Federal do Rio Grande do Sul (UFRGS)   \n",
    "Programa de Pós-Graduação em Engenharia Civil (PPGEC)   \n",
    "\n",
    "# PEC00025: Introduction to Vibration Theory\n",
    "\n",
    "\n",
    "## Test P2 (2021/1): multiple d.o.f. and continuous systems\n",
    "\n",
    "---\n",
    "\n",
    "**NAME:** <br/>\n",
    "**CARD:** \n",
    "\n",
    "\n",
    "#### Instruções\n",
    "\n",
    "1. Entregar a resolução da prova em arquivo único, com no máximo 10Mb, até às 12h de amanhã, 01 de junho de 2021.\n",
    "2. Recomenda-se verificar atentamente se todas as folhas da resolução foram incluídas no arquivo gerado, pois não serão aceitas entregas posteriores.\n",
    "3. Na primeira folha do arquivo deve constar claramente o NOME e o cartão de MATRÍCULA.\n",
    "4. A consulta ao material de estudo e o uso do computador para cálculos são LIVRES.\n",
    "5. A prova deve ser realizada INDIVIDUALMENTE, sem recorrer ao auxílio de colegas ou outras pessoas! Caso se verifique o descumprimento desta regra, todos os envolvidos na fraude terão a nota da prova zerada.\n"
   ]
  },
  {
   "cell_type": "code",
   "execution_count": 1,
   "metadata": {},
   "outputs": [],
   "source": [
    "# Importing Python modules required for this notebook\n",
    "# (this cell must be executed with \"shift+enter\" before any other Python cell)\n",
    "\n",
    "import numpy as np\n",
    "import scipy.linalg as sc\n",
    "import matplotlib.pyplot as plt\n",
    "\n",
    "from MRPy import *\n"
   ]
  },
  {
   "cell_type": "markdown",
   "metadata": {},
   "source": [
    "## Questão 1\n",
    "\n",
    "<img src=\"resources/tests/PEC00025A_211_P2_Q1.jpg\" alt=\"Question 1\" width=\"640px\"/>\n"
   ]
  },
  {
   "cell_type": "markdown",
   "metadata": {},
   "source": [
    "Dados do problema:"
   ]
  },
  {
   "cell_type": "code",
   "execution_count": 2,
   "metadata": {},
   "outputs": [],
   "source": [
    "H  =  3.             # altura de cada pavimento (m)\n",
    "M  =  10000.         # massa de cada pavimento (kg)\n",
    "f1 =  1.             # frequência fundamental (Hz)\n",
    "zt =  0.01           # amortecimento modal (adim., mesma nos dois modos)\n",
    "g  =  9.81           # aceleração da gravidade (m/s^2)\n"
   ]
  },
  {
   "cell_type": "markdown",
   "metadata": {},
   "source": [
    "Função para cálculo dos modos de vibração:"
   ]
  },
  {
   "cell_type": "code",
   "execution_count": 3,
   "metadata": {},
   "outputs": [],
   "source": [
    "def vibration_modes(K, M):\n",
    "\n",
    "# 1. Uses scipy to solve the standard eigenvalue problem\n",
    "    w2, Phi = sc.eig(K, M)\n",
    "\n",
    "# 2. Ensure ascending order of eigenvalues\n",
    "    iw  = w2.argsort()\n",
    "    w2  = w2[iw]\n",
    "    Phi = Phi[:,iw]\n",
    "\n",
    "# 3. Eigenvalues to vibration frequencies\n",
    "    wk  = np.sqrt(np.real(w2)) \n",
    "    fk  = wk/2/np.pi\n",
    "\n",
    "# 4. Mass matrix normalization\n",
    "    Mk = np.diag(np.dot(Phi.T, np.dot(M, Phi)))\n",
    "    \n",
    "    for k in range(len(wk)):\n",
    "        Phi[:,k] = Phi[:,k]/np.sqrt(Mk[k])\n",
    "            \n",
    "# 5. Return results\n",
    "    return fk, wk, Phi\n"
   ]
  },
  {
   "cell_type": "markdown",
   "metadata": {},
   "source": [
    "Monta matrizes e calcula modos:"
   ]
  },
  {
   "cell_type": "code",
   "execution_count": 4,
   "metadata": {},
   "outputs": [
    {
     "name": "stdout",
     "output_type": "stream",
     "text": [
      "Rigidez individual de cada barra:  516.8kN/m.\n",
      "Frequência no primeiro modo:        1.00Hz.\n",
      "Frequência no segundo modo:         2.62Hz.\n"
     ]
    }
   ],
   "source": [
    "K  =  1.00                               # rigidez de cada coluna (incógnita)\n",
    "\n",
    "KG =  K*np.array([[2, -2], [-2, 4]])     # rigidez global\n",
    "MG =  M*np.array([[1,  0], [ 0, 1]])     # massa global\n",
    "\n",
    "fk, wk, Phi = vibration_modes(KG, MG)\n",
    "\n",
    "K  = (f1/fk[0])**2                       # determina a rigidez correta\n",
    "fk =  fk*np.sqrt(K)                      # calcula todas as frequências\n",
    "wk =  fk*2*np.pi                         # em rad/s\n",
    "\n",
    "print('Rigidez individual de cada barra: {0:6.1f}kN/m.'.format(K/1000))\n",
    "print('Frequência no primeiro modo:      {0:6.2f}Hz.'.format(fk[0]))\n",
    "print('Frequência no segundo modo:       {0:6.2f}Hz.'.format(fk[1]))\n",
    "\n",
    "#print(wk)"
   ]
  },
  {
   "cell_type": "markdown",
   "metadata": {},
   "source": [
    "Visualiza modos:"
   ]
  },
  {
   "cell_type": "code",
   "execution_count": 5,
   "metadata": {},
   "outputs": [
    {
     "data": {
      "image/png": "[encoded data removed]",
      "text/plain": [
       "<Figure size 864x576 with 2 Axes>"
      ]
     },
     "metadata": {
      "needs_background": "light"
     },
     "output_type": "display_data"
    }
   ],
   "source": [
    "plt.figure(1, figsize=(12,8))\n",
    "\n",
    "x = H*np.arange(3)\n",
    "\n",
    "for k in range(2):\n",
    "    qk = np.zeros(3)\n",
    "    qk[1:] = Phi[::-1,k]\n",
    "    qk /= np.max(np.abs(qk))   # adjust scale for unity amplitude\n",
    "    \n",
    "    plt.subplot(1,2,k+1)\n",
    "    plt.plot(qk, x, 'bo')\n",
    "    plt.plot(qk, x)\n",
    "    \n",
    "    plt.xlim(-1.5, 1.5);  plt.ylabel(str(k+1));\n",
    "    plt.ylim( 0.0, 7.0);\n",
    "    plt.title('fk = {0:4.2f}Hz'.format(fk[k]));\n",
    "    plt.grid(True)\n"
   ]
  },
  {
   "cell_type": "markdown",
   "metadata": {},
   "source": [
    "## Questão 2\n",
    "\n",
    "<img src=\"resources/tests/PEC00025A_211_P2_Q2.jpg\" alt=\"Question 2\" width=\"640px\"/>\n"
   ]
  },
  {
   "cell_type": "markdown",
   "metadata": {},
   "source": [
    "A excitação tem mesma amplitude nas frequências de 0.5 e 3Hz. Para usar as amplificações dinâmicas, vamos admitir que o pico das respostas modais poderão estar em fase."
   ]
  },
  {
   "cell_type": "code",
   "execution_count": 6,
   "metadata": {
    "scrolled": false
   },
   "outputs": [
    {
     "name": "stdout",
     "output_type": "stream",
     "text": [
      "Máximo deslocamento no pavimento superior: 0.0398m.\n"
     ]
    }
   ],
   "source": [
    "FG  =  0.1*g*np.diag(MG).reshape(2,1)                     # amplitude das forças nos pavimentos\n",
    "Fk  =  np.matmul(Phi.T, FG)                               # amplitude das forças modais\n",
    "\n",
    "Mk  =  np.diag(np.dot(Phi.T, np.dot(MG, Phi)))            # massas modais\n",
    "Kk  =  wk*wk*Mk                                           # rigidezes modais\n",
    "uk  =  np.empty(2)                                        # aloca memória para respostas modais\n",
    "\n",
    "for k, fn in enumerate(fk):\n",
    "    \n",
    "    bt    = [0.5, 3.0]/fn                                 # frequências componentes da excitação\n",
    "    AD    =  np.sqrt(1/((1 - bt**2)**2 + (2*zt*bt)**2))   # respectivas amplificações dinâmicas\n",
    "    uk[k] = (Fk[k]/Kk[k])*np.sum(AD)                      # pico da resposta modal amplificada\n",
    "    \n",
    "u = np.matmul(Phi,uk)\n",
    "\n",
    "print('Máximo deslocamento no pavimento superior: {0:6.4f}m.'.format(u[0]))\n"
   ]
  },
  {
   "cell_type": "markdown",
   "metadata": {},
   "source": [
    "O mesmo cálculo agora por simulação, integrando por Fourier através do módulo ``MRPy``:"
   ]
  },
  {
   "cell_type": "code",
   "execution_count": 7,
   "metadata": {},
   "outputs": [],
   "source": [
    "Td  =  32.\n",
    "N   =  1024\n",
    "\n",
    "t   =  np.linspace(0, Td, N)                              # domínio do tempo\n",
    "F   =  FG*(np.sin(np.pi*t) + np.sin(6*np.pi*t))           # força dinâmica\n"
   ]
  },
  {
   "cell_type": "markdown",
   "metadata": {},
   "source": [
    "Calcula forças modais e resolve equações de equilíbrio desacopladas:"
   ]
  },
  {
   "cell_type": "code",
   "execution_count": 8,
   "metadata": {},
   "outputs": [
    {
     "name": "stdout",
     "output_type": "stream",
     "text": [
      "Máximo deslocamento no pavimento superior: 0.0388m.\n"
     ]
    },
    {
     "data": {
      "image/png": "[encoded data removed]",
      "text/plain": [
       "<Figure size 720x360 with 2 Axes>"
      ]
     },
     "metadata": {
      "needs_background": "light"
     },
     "output_type": "display_data"
    }
   ],
   "source": [
    "Fk =  MRPy(np.matmul(Phi.T, F), Td=Td)                    # cria objeto MRPy\n",
    "\n",
    "for k in range(2):\n",
    "    Fk[k,:] /= Mk[k]                                      # prepara para solução\n",
    "\n",
    "uk =  Fk.sdof_Fourier(fk, zt)                             # calcula respostas modais\n",
    "u  =  np.matmul(Phi,uk)                                   # deslocamento nos pavimentos\n",
    "\n",
    "print('Máximo deslocamento no pavimento superior: {0:6.4f}m.'.format(u[0,:].max()))\n",
    "\n",
    "u.plot_time(1, figsize=(10,5));\n"
   ]
  },
  {
   "cell_type": "markdown",
   "metadata": {},
   "source": [
    "A diferença dos dois resultados se deve a que o pico das respostas modais não está perfeitamente em fase. \n",
    "Portanto a solução numérica, que é a mais precisa, apresenta amplitude ligeiramente menor.\n"
   ]
  },
  {
   "cell_type": "markdown",
   "metadata": {},
   "source": [
    "## Questão 3\n",
    "\n",
    "<img src=\"resources/tests/PEC00025A_211_P2_Q3.jpg\" alt=\"Question 3\" width=\"640px\"/>\n"
   ]
  },
  {
   "cell_type": "markdown",
   "metadata": {},
   "source": [
    "Primeiro vamos calcular a resposta exata, aplicando as condições de contorno na solução geral:\n",
    "\n",
    "$$ \\varphi(x) = C_1 \\left(\\cos px + \\cosh px \\right) + \n",
    "                C_2 \\left(\\cos px - \\cosh px \\right) + \n",
    "                C_3 \\left(\\sin px + \\sinh px \\right) + \n",
    "                C_4 \\left(\\sin px - \\sinh px \\right) $$  \n",
    "\n",
    "onde:\n",
    "\n",
    "$$ p^4 = \\left(\\frac{\\mu}{EI}\\right) \\omega^2 $$\n",
    "\n",
    "As condições de contorno são:\n",
    "\n",
    "\\begin{align*}\n",
    " \\varphi(0)                      &= 0 \\\\\n",
    " \\varphi^{\\prime\\prime}(0)       &= 0 \\\\\n",
    " \\varphi^{\\prime}(L)             &= 0 \\\\\n",
    " \\varphi^{\\prime\\prime\\prime}(L) &= 0\n",
    "\\end{align*}\n",
    "\n",
    "Aplicando essas condições na solução geral temos, para $x = 0$:\n",
    "\n",
    "\\begin{align*}\n",
    "\\varphi(0)                &=  C_1 \\left( 1 + 1 \\right) + \n",
    "                              C_2 \\left( 1 - 1 \\right) + \n",
    "                              C_3 \\left( 0 + 0 \\right) + \n",
    "                              C_4 \\left( 0 - 0 \\right) = 0 \\\\\n",
    "\\varphi^{\\prime\\prime}(0) &=  C_1 \\left(-1 + 1 \\right) + \n",
    "                              C_2 \\left(-1 - 1 \\right) + \n",
    "                              C_3 \\left(-0 + 0 \\right) + \n",
    "                              C_4 \\left(-0 - 0 \\right) = 0\n",
    "\\end{align*}\n",
    "\n",
    "Portanto $C_1 = 0$ e $C_2 = 0$. Por outro lado, para $x = L$:\n",
    "                              \n",
    "\\begin{align*}                              \n",
    "\\varphi^\\prime(L)               &= C_3 \\left( \\cos pL + \\cosh pL \\right) + \n",
    "                                   C_4 \\left( \\cos pL - \\cosh pL \\right) = 0 \\\\\n",
    "\\varphi^{\\prime\\prime\\prime}(L) &= C_3 \\left(-\\cos pL + \\cosh pL \\right) + \n",
    "                                   C_4 \\left(-\\cos pL - \\cosh pL \\right) = 0\n",
    "\\end{align*}\n",
    "\n",
    "Colocando as equações acima em forma matricial temos:\n",
    "\n",
    "$$ \\left[ \\begin{array}{cc}\n",
    "                 \\left( \\cos pL + \\cosh pL \\right) & \\left( \\cos pL - \\cosh pL \\right) \\\\\n",
    "                 \\left(-\\cos pL + \\cosh pL \\right) & \\left(-\\cos pL - \\cosh pL \\right) \n",
    "          \\end{array} \\right] \n",
    " \\left[ \\begin{array}{c}\n",
    "                  C_3 \\\\\n",
    "                  C_4 \n",
    "        \\end{array} \\right]  =                \n",
    " \\left[ \\begin{array}{c}\n",
    "                  0 \\\\\n",
    "                  0 \n",
    "        \\end{array} \\right] $$\n",
    "\n",
    "Fazendo o determinante da matrix de coeficientes igual a zero temos as frequência naturais.\n",
    "Estas frequências podem ser calculadas numericamente, como mostrado abaixo.\n"
   ]
  },
  {
   "cell_type": "code",
   "execution_count": 9,
   "metadata": {},
   "outputs": [
    {
     "name": "stdout",
     "output_type": "stream",
     "text": [
      "Cantilever beam frequency parameter is 1.570796...\n"
     ]
    }
   ],
   "source": [
    "def char_eq(x):\n",
    "    \n",
    "    x = x[0]\n",
    "    A = np.array([[ np.cos(x)+np.cosh(x),  np.cos(x)-np.cosh(x)], \n",
    "                  [-np.cos(x)+np.cosh(x), -np.cos(x)-np.cosh(x)]])\n",
    " \n",
    "    return np.linalg.det(A)\n",
    "\n",
    "#-----------------------------------------------------------------------\n",
    "\n",
    "from scipy.optimize import fsolve\n",
    "\n",
    "p = fsolve(char_eq, 1.0)\n",
    "\n",
    "print('Cantilever beam frequency parameter is {0:8.6f}...'.format(p[0]))\n"
   ]
  },
  {
   "cell_type": "markdown",
   "metadata": {},
   "source": [
    "Ou seja, o parâmetro de frequência parece ser $\\pi/2$ e a frequência fundamental resulta:\n",
    "\n",
    "$$ \\omega_1 = \\left(\\frac{\\pi}{2L} \\right)^2 \\sqrt{\\frac{EI}{\\mu}} $$\n",
    "\n",
    "que coerentemente corresponde à frequência fundamental de uma viga bi-apoiada com vão $2L$. \n",
    "Isso está correto já que a condição de apoio da direita equivale a uma condição de simetria para uma viga com o \n",
    "dobro do vão!\n",
    "\n",
    "Agora vamos refazer o cálculo propondo a seguinte função aproximada para a forma modal:\n",
    "\n",
    "$$ \\varphi(x) = \\frac{1}{L^2}\\left( 2Lx - x^2 \\right) $$\n",
    "\n",
    "ou seja, uma parábola que apresenta derivada nula para $x = L$, e portanto respeita _algumas_ condições de contorno. A escala desta forma modal é intencionalmente escolhida como sendo unitária. As derivadas dessa forma modal aproximada são:\n",
    "\n",
    "\\begin{align*}\n",
    " \\varphi^{\\prime}(x)       &=  (2L - 2x)\\,/L^2 \\\\\n",
    " \\varphi^{\\prime\\prime}(x) &=  -2\\,/L^2\n",
    "\\end{align*}\n",
    "\n",
    "Observa-se que a função proposta não cumpre a condição de momento nulo na extremidade da esquerda, mas vamos em frente.\n",
    "A correspondente energia cinética de referência é:\n",
    "\n",
    "$$ T_{\\rm ref} = \\frac{1}{2} \\int_0^L {\\mu \\varphi ^2(x) \\, dx} \n",
    "               = \\frac{4}{15} \\, \\mu L   $$\n",
    "\n",
    "enquanto a energia potencial elástica resulta:\n",
    "\n",
    "$$ V = \\frac{1}{2} \\int_0^L {EI \\left[ \\varphi^{\\prime\\prime}(x) \\right] ^2 \\, dx}\n",
    "     = \\frac{2EI}{L^3}  $$\n",
    "\n",
    "Portanto o quociente de Rayleigh resulta:\n",
    "\n",
    "$$ \\omega_1 = \\sqrt{\\frac{V}{T_{\\rm ref}}}\n",
    "            = \\sqrt{\\frac{2EI \\cdot 15}{4\\mu L^4}} \n",
    "            = \\left(\\frac{120^{1/4}}{2L} \\right)^2 \\sqrt{\\frac{EI}{\\mu}} $$\n",
    "\n",
    "onde $120^{1/4} \\approx 3.31$ e portanto esse valor apresenta um erro de aproximadamente 5.4%, esperado em relação ao valor correto, $\\pi$, e um erro de aproximadamente 11% em relação à \n",
    "frequência correta. \n",
    "Observe que o quociente de Rayleigh sempre fornece frequência igual ou maior que a exata.\n"
   ]
  },
  {
   "cell_type": "markdown",
   "metadata": {},
   "source": [
    "## Questão 4\n",
    "\n",
    "<img src=\"resources/tests/PEC00025A_211_P2_Q4.jpg\" alt=\"Question 4\" width=\"640px\"/>\n"
   ]
  },
  {
   "cell_type": "markdown",
   "metadata": {},
   "source": [
    "Dados do problema:"
   ]
  },
  {
   "cell_type": "code",
   "execution_count": 10,
   "metadata": {},
   "outputs": [],
   "source": [
    "L  =  6.             # comprimento da viga (m)\n",
    "m  =  80.            # massa da pessoa (kg)\n",
    "mu =  200.           # massa por unidade de comprimento (kg/m)\n",
    "EI =  36.e6          # rigidez à flexão (Nm^2)\n"
   ]
  },
  {
   "cell_type": "markdown",
   "metadata": {},
   "source": [
    "Vamos considerar a resposta apenas no primeiro modo. A dissipação de energia por amortecimento\n",
    "é desprezada e a energia total do sistema deve se manter constante e igual à a energia potencial \n",
    "gravitacional da pessoa no início da queda:\n",
    "\n",
    "$$ E = mgh = 784.8{\\rm J}$$\n",
    "\n",
    "Por questão de simplicidade, admite-se que a viga já está deformada por peso próprio quando se \n",
    "determina a altura de queda da pessoa. Também vamos considerar que o choque é perfeitamente inelástico, \n",
    "ou seja, a viga e a pessoa seguem unidos após o contato.\n",
    "\n",
    "Observe que forma modal proposta é normalizada pela unidade, de modo que ela tem valor unitário na \n",
    "extremidade da direita, $\\varphi(L) = 1$. \n",
    "Desta forma, deslocamento vertical e deslocamento modal tem mesmo valor numérico\n",
    "no ponto B.\n",
    "\n",
    "A energia cinética total do sistema após o choque é calculada como:\n",
    "\n",
    "$$ T = \\frac{1}{2} \\int_0^L {\\mu \\left[ v_0 \\varphi(x) \\right]^2 \\, dx}\n",
    "     + \\frac{1}{2} m\\left[ v_0 \\varphi(L) \\right] ^2  = 360v_0^2$$\n",
    "\n",
    "onde $v_0$ é a velocidade inicial da extremidade direita da viga logo após o choque, que é numericamente\n",
    "igual à velocidade inicial no espaço modal. Igualando-se as energias, $E = T$, chega-se a:\n",
    "\n",
    "$$ v_0 = \\sqrt{\\frac{784.8}{360}} \\approx 1.48{\\rm m/s}$$\n"
   ]
  },
  {
   "cell_type": "markdown",
   "metadata": {},
   "source": [
    "A frequência natural no primeiro modo precisa ser re-calculada, pois agora a viga tem também a massa\n",
    "da pessoa incorporada na extremidade direita. A nova energia cinética de referência é:\n",
    "\n",
    "$$ T_{\\rm ref} = \\frac{1}{2} \\int_0^L {\\mu \\varphi^2(x) \\, dx} + \\frac{1}{2} m \\varphi^2(L)  = 360 $$\n",
    "\n",
    "A energia potencial elástica, $V$, permanece a mesma e, portanto, a frequência natural resulta menor:\n",
    "\n",
    "$$ \\omega_{\\rm n} = \\sqrt{\\frac{V}{T_{\\rm ref}}}\n",
    "                  = \\sqrt{\\frac{2\\cdot 36\\times 10^6}{360 \\cdot 6^3}} \\approx 30.42{\\rm rad/s} $$\n",
    "\n",
    "Sem a massa da pessoa incorporada, a frequência natural calculada na seção anterior seria de $32.27{\\rm rad/s}$.\n",
    "\n",
    "A amplitude total do delocamento modal é a soma da amplitude devida à velocidade inicial \n",
    "com o deslocamento  devido à carga impulsiva. \n",
    "Dada a escala unitária da forma modal, a força modal tem o mesmo módulo da força aplicada na \n",
    "extremidade da direita.\n",
    "O formato retangular da carga impulsiva (choque inelástico) implica que o fator de amplificação dinâmica, \n",
    "$A$, da resposta estática, $u_{B, \\rm est}$, é igual a 2. \n",
    "\n",
    "$$ u_{B, \\rm max} = \\frac{v_0}{\\omega_{\\rm n}} + A \\, u_{B, \\rm est} $$\n",
    "\n",
    "Para calcular a resposta estática é necessário conhecer a massa modal:\n",
    "\n",
    "$$ M = \\int_0^L {\\mu \\varphi^2(x) \\, dx} + m \\varphi^2(L) = 720{\\rm kg}$$\n",
    "\n",
    "Lembrando que a rigidez modal é dada por $K = \\omega^2_{\\rm n} M$, a resposta estática é calculada como:\n",
    "\n",
    "$$ u_{B, \\rm est} = \\frac{mg \\varphi(L)}{K} = \\frac{80 \\cdot 9.81 \\cdot 1}{30.42^2 \\cdot 720} \\approx 1.18{\\rm mm}$$ \n",
    "\n",
    "Substituindo valores:\n",
    "\n",
    "$$ u_{B, \\rm max} = \\frac{1.48}{30.42} + 2 \\cdot 0.00118 \\approx  5.1{\\rm cm}$$\n"
   ]
  },
  {
   "cell_type": "code",
   "execution_count": null,
   "metadata": {},
   "outputs": [],
   "source": []
  }
 ],
 "metadata": {
  "kernelspec": {
   "display_name": "Python 3 (ipykernel)",
   "language": "python",
   "name": "python3"
  },
  "language_info": {
   "codemirror_mode": {
    "name": "ipython",
    "version": 3
   },
   "file_extension": ".py",
   "mimetype": "text/x-python",
   "name": "python",
   "nbconvert_exporter": "python",
   "pygments_lexer": "ipython3",
   "version": "3.8.3"
  }
 },
 "nbformat": 4,
 "nbformat_minor": 2
}
