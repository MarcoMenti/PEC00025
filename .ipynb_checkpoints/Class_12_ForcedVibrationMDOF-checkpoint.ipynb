{
 "cells": [
  {
   "cell_type": "markdown",
   "metadata": {},
   "source": [
    "## Universidade Federal do Rio Grande do Sul (UFRGS)   \n",
    "Programa de Pós-Graduação em Engenharia Civil (PPGEC)   \n",
    "\n",
    "# PEC00025: Introduction to Vibration Theory\n",
    "\n",
    "\n",
    "### Class 12 - Forced vibration of multi degree of freedom systems\n",
    "\n",
    "[1.   The Rayleigh quotient](#section_1)  \n",
    "[2.   The damping matrix](#section_2)  \n",
    "[3.   Modal superposition](#section_3)  \n",
    "[4.   Modal analysis for static response](#section_4)  \n",
    "[5.   Assignment](#section_5)  \n",
    "\n",
    "---\n",
    "_Prof. Marcelo M. Rocha, Dr.techn._ [(ORCID)](https://orcid.org/0000-0001-5640-1020)  \n",
    "_Porto Alegre, RS, Brazil_ \n"
   ]
  },
  {
   "cell_type": "code",
   "execution_count": 8,
   "metadata": {},
   "outputs": [],
   "source": [
    "# Importing Python modules required for this notebook\n",
    "# (this cell must be executed with \"shift+enter\" before any other Python cell)\n",
    "\n",
    "import numpy as np\n",
    "import matplotlib.pyplot as plt\n",
    "import pickle as pk\n",
    "\n",
    "# Load matrices generated in Class 10 and 11 (those notebooks must be run firstly!)\n",
    "\n",
    "with open('resources/data/sample_KM.pk', 'rb') as KM:\n",
    "    K1, M1, K2, M2, K3, M3 = pk.load(KM)\n",
    "\n",
    "with open('resources/data/sample_VM.pk', 'rb') as VM:\n",
    "    wk1, Phi1, wk2, Phi2, wk3, Phi3 = pk.load(VM)\n"
   ]
  },
  {
   "cell_type": "markdown",
   "metadata": {},
   "source": [
    "## 1. The Rayleigh quotient <a name=\"section_1\"></a> \n",
    "\n",
    "In a previous class we have seen that for a discrete system the potential\n",
    "elastic and the kinetic energy can be given in matrix notation as:\n",
    "\n",
    "\\begin{align*}\n",
    " V &= \\frac{1}{2} \\; \\vec{u}^{\\intercal} \\mathbf{K} \\,\\vec{u} \\\\\n",
    " T &= \\frac{1}{2} \\; \\dot{\\vec{u}}^{\\intercal} \\mathbf{M} \\, \\dot{\\vec{u}}\n",
    "\\end{align*}\n",
    "\n",
    "These expressions are valid both for each (finite) element, as for the complete system as well.\n",
    "Now we recall the free vibration response in the $k$-th vibration mode and the corresponding velocity:\n",
    "\n",
    "\\begin{align*}\n",
    " \\vec{u}_k(t)       &=          u_{k0} \\sin \\left( \\omega_k t + \\theta_k \\right) \\, \\vec{\\varphi}_k \\\\\n",
    " \\vec{\\dot{u}}_k(t) &= \\omega_k u_{k0} \\cos \\left( \\omega_k t + \\theta_k \\right) \\, \\vec{\\varphi}_k\n",
    "\\end{align*}\n",
    "\n",
    "Disregarding any energy dissipation (damping), both energy forms, $V$ and $T$, must have the same \n",
    "maximum amplitude occurring whenever the sine or the cosine function peaks at unity: \n",
    "\n",
    "$$ \\frac{V_{\\rm max}}{T_{\\rm max}} =  \n",
    " \\frac{     u_{k0}^2 \\; \\left(\\vec{\\varphi}_k^{\\intercal} \\mathbf{K} \\,\\vec{\\varphi}_k \\right)}\n",
    "{\\omega_k^2 u_{k0}^2 \\; \\left(\\vec{\\varphi}_k^{\\intercal} \\mathbf{M} \\,\\vec{\\varphi}_k \\right)} = 1 $$\n",
    "\n",
    "This means that:\n",
    "\n",
    "$$ \\omega_k^2 = \\frac{V_{\\rm max}}{T_{\\rm max}^*} $$\n",
    "\n",
    "where $T_{\\rm max}^*$ is called _reference kinetic energy_, which is the kinetic energy calculated\n",
    "with displacements instead of velocities. \n",
    "\n",
    "The equation above is called _Rayleigh Quotient_, and the equality holds only for free vibration at a given \n",
    "mode $k$, whatever the vibration amplitude $u_{k0}$ is.  \n",
    "However, it can be shown that _any displacement vector, $\\vec{u}$, that minimizes the quotient \n",
    "above IS a vibration mode_. \n",
    "This means that by making an educated guess about $\\vec{u}_k$ for mode $\\vec{\\varphi}_k$ and calculating \n",
    "the corresponding energies, $V_{\\rm max}$ and $T_{\\rm max}^*$, will provide an estimation for $\\omega_k$ \n",
    "that is equal or larger the correct value.\n",
    "\n",
    "In the following example, we use the deformed shape for a central load calculated with FTool for the\n",
    "plane truss (example 1) in [Class 10](https://nbviewer.jupyter.org/github/mmaiarocha/PEC00025/blob/master/Class_10_FromSingleToMany.ipynb?flushcache=true).\n",
    "For the applied load of 1.0kN, the deformed shape is (the central line of the flexibility matrix):\n",
    "\n",
    "<img src=\"images/truss12central.png\" alt=\"Central load\" width=\"780px\"/>\n"
   ]
  },
  {
   "cell_type": "code",
   "execution_count": 11,
   "metadata": {},
   "outputs": [],
   "source": [
    "uk = 1e-3*np.array([[0.1303, 0.2325, 0.2833, 0.2325, 0.1303]]).T    # initial guess for eigenvector (m)\n"
   ]
  },
  {
   "cell_type": "markdown",
   "metadata": {},
   "source": [
    "The maximum potential elastic energy can be calculated as the work done by external forces, while the maximum\n",
    "reference kinetic energy is calculated with the (lumped) mass matrix:\n"
   ]
  },
  {
   "cell_type": "code",
   "execution_count": 31,
   "metadata": {},
   "outputs": [
    {
     "name": "stdout",
     "output_type": "stream",
     "text": [
      "Frequency from Rayleigh quotient: 4.02Hz\n",
      "Previously calculated with scipy: 3.94Hz\n",
      "Estimation error:                 2.02% \n"
     ]
    }
   ],
   "source": [
    "Vmax = 1000*uk[2,0]/2                         # work done by central load 1.0kN\n",
    "Tref = np.dot(uk.T, np.dot(M1, uk))[0,0]/2    # reference kinetic with mass matrix\n",
    "\n",
    "# Eigenvalue estimation\n",
    "fk = np.sqrt(Vmax/Tref)/2/np.pi\n",
    "f1 = wk1[0]/(2*np.pi)\n",
    "\n",
    "print('Frequency from Rayleigh quotient: {0:4.2f}Hz'.format(fk)) \n",
    "print('Previously calculated with scipy: {0:4.2f}Hz'.format(f1))\n",
    "print('Estimation error:                 {0:4.2f}% '.format(100*(fk - f1)/f1))\n"
   ]
  },
  {
   "cell_type": "markdown",
   "metadata": {},
   "source": [
    "This shows that the Rayleigh quotient may provide a very good estimation of natural frequencies whenever a \n",
    "convincing modal shape is assumed and the corresponding system stiffness is available.\n"
   ]
  },
  {
   "cell_type": "markdown",
   "metadata": {},
   "source": [
    "## 2. The damping matrix <a name=\"section_2\"></a> \n"
   ]
  },
  {
   "cell_type": "code",
   "execution_count": null,
   "metadata": {},
   "outputs": [],
   "source": []
  },
  {
   "cell_type": "markdown",
   "metadata": {},
   "source": [
    "## 3. Modal Superposition <a name=\"section_3\"></a> \n"
   ]
  },
  {
   "cell_type": "code",
   "execution_count": null,
   "metadata": {},
   "outputs": [],
   "source": []
  },
  {
   "cell_type": "markdown",
   "metadata": {},
   "source": [
    "## 4. Modal analysis for static response <a name=\"section_4\"></a> \n",
    "\n",
    "<img src=\"images/simply_supported.png\" alt=\"simply supported beam\" width=\"400px\"/>\n"
   ]
  },
  {
   "cell_type": "code",
   "execution_count": null,
   "metadata": {},
   "outputs": [],
   "source": [
    "L  = 1         # bar length (m)\n",
    "EI = 17.96     # bending stiffness (Nm2)\n",
    "mu = 0.260     # mass per unity length (kg/m)\n",
    "q  = 20000     # distributed load (N/m)\n",
    "\n",
    "# Proposed modal shape for first mode\n",
    "x  = np.linspace(0, L, 200)\n",
    "qk = np.sin(np.pi*x/L)\n",
    "\n",
    "plt.figure(1, figsize=(8,2))\n",
    "plt.plot(x, qk)\n",
    "    \n",
    "plt.xlim( 0.0, L  );  plt.xlabel('x');\n",
    "plt.ylim(-0.5, 1.5);  plt.ylabel('phi(x)');\n",
    "plt.title('Proposed modal shape')\n",
    "plt.grid(True)\n"
   ]
  },
  {
   "cell_type": "code",
   "execution_count": null,
   "metadata": {},
   "outputs": [],
   "source": [
    "wk = np.sqrt(EI/mu)*(np.pi/L)**2\n",
    "Mk = np.sum(mu*qk*qk)\n",
    "Kk = wk*wk*Mk\n",
    "\n",
    "print('Available fundamental vibration frequency: {0:7.1f} rad/s'.format(wk))\n",
    "print('Modal mass (integrated over bar length):   {0:7.1f} kg'.format(Mk))\n",
    "print('Modal stiffness (from mass and frequency): {0:7.0f} N/m'.format(Kk))\n"
   ]
  },
  {
   "cell_type": "code",
   "execution_count": null,
   "metadata": {},
   "outputs": [],
   "source": [
    "Fk = np.sum(q*qk)         # modal force\n",
    "uk = Fk/Kk                # modal displacement\n",
    "up = np.max(uk*qk)        # maximum displacement\n",
    "\n",
    "u0 = (5*q*L**4)/(384*EI)  # theoretical maximum displacement\n",
    "\n",
    "print('Maximum displacement approximation: {0:5.2f}m'.format(up))\n",
    "print('Theoretical maximum displacement:   {0:5.2f}m'.format(u0))\n"
   ]
  },
  {
   "cell_type": "code",
   "execution_count": null,
   "metadata": {},
   "outputs": [],
   "source": [
    "u    = uk*qk\n",
    "V    = np.sum(q*u)\n",
    "Tref = np.sum(mu*u*u)\n",
    "wk   = np.sqrt(V/Tref)\n",
    "\n",
    "print('Fundamental frequency from Rayleigh quotient: {0:7.1f} rad/s'.format(wk))\n"
   ]
  },
  {
   "cell_type": "markdown",
   "metadata": {},
   "source": [
    "## 5. Assignments <a name=\"section_5\"></a> \n",
    "\n"
   ]
  }
 ],
 "metadata": {
  "kernelspec": {
   "display_name": "Python 3",
   "language": "python",
   "name": "python3"
  },
  "language_info": {
   "codemirror_mode": {
    "name": "ipython",
    "version": 3
   },
   "file_extension": ".py",
   "mimetype": "text/x-python",
   "name": "python",
   "nbconvert_exporter": "python",
   "pygments_lexer": "ipython3",
   "version": "3.7.6"
  }
 },
 "nbformat": 4,
 "nbformat_minor": 2
}
