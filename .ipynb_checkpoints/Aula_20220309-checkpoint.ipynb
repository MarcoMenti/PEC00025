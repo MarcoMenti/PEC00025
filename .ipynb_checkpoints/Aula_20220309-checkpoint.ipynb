{
 "cells": [
  {
   "cell_type": "markdown",
   "id": "f3a3834f",
   "metadata": {},
   "source": [
    "# Aula de 09 de março de 2022\n",
    "\n",
    "## Funcionamento do Jupyter Notebook\n",
    "\n",
    "A imagem abaixo foi buscada da pasta ``images``:\n",
    "\n",
    "<img src=\"images/heaviside.png\" alt=\"Heaviside\" width=\"240px\"/>\n",
    "\n",
    "Sabendo-se que $a = b^2$, pode-se concluir que:\n",
    "\n",
    "$$ c = a = b^2 $$\n"
   ]
  },
  {
   "cell_type": "code",
   "execution_count": null,
   "id": "31e988bf",
   "metadata": {},
   "outputs": [],
   "source": []
  }
 ],
 "metadata": {
  "kernelspec": {
   "display_name": "Python 3 (ipykernel)",
   "language": "python",
   "name": "python3"
  },
  "language_info": {
   "codemirror_mode": {
    "name": "ipython",
    "version": 3
   },
   "file_extension": ".py",
   "mimetype": "text/x-python",
   "name": "python",
   "nbconvert_exporter": "python",
   "pygments_lexer": "ipython3",
   "version": "3.8.3"
  }
 },
 "nbformat": 4,
 "nbformat_minor": 5
}
