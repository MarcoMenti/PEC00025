{
 "cells": [
  {
   "cell_type": "markdown",
   "metadata": {},
   "source": [
    "## Universidade Federal do Rio Grande do Sul (UFRGS)   \n",
    "Programa de Pós-Graduação em Engenharia Civil (PPGEC)   \n",
    "\n",
    "# PEC00025: Introduction to Vibration Theory\n",
    "\n",
    "\n",
    "### Class 14 - Vibration of beams\n",
    "\n",
    "[1.   The vibrating beam equation](#section_1)   \n",
    "[2.   Free vibration solution](#section_2)   \n",
    "[3.   Vibration modes and frequencies](#section_3)  \n",
    "[4.   Solution by approximation](#section_4)   \n",
    "[5.   Assignment](#section_5)  \n",
    "\n",
    "---\n",
    "_Prof. Marcelo M. Rocha, Dr.techn._ [(ORCID)](https://orcid.org/0000-0001-5640-1020)  \n",
    "_Porto Alegre, RS, Brazil_ \n"
   ]
  },
  {
   "cell_type": "code",
   "execution_count": 1,
   "metadata": {},
   "outputs": [],
   "source": [
    "# Importing Python modules required for this notebook\n",
    "# (this cell must be executed with \"shift+enter\" before any other Python cell)\n",
    "\n",
    "import numpy as np\n",
    "import matplotlib.pyplot as plt\n"
   ]
  },
  {
   "cell_type": "markdown",
   "metadata": {},
   "source": [
    "## 1. The vibrating beam equation <a name=\"section_1\"></a> \n",
    "\n",
    "The static analysis of a beam under Bernoulli's hypothesis (plane sections remain plane after beam\n",
    "deformation) leads to the well known differential equations:\n",
    "\n",
    "\\begin{align*}\n",
    "\\frac{dQ}{dx}   &= -q(x) \\\\\n",
    "\\frac{dM}{dx}   &=  Q(x) \\\\\n",
    " EI \\psi^\\prime &=  M(x)\n",
    "\\end{align*}\n",
    "\n",
    "where $q(x)$ is the distributed transversal loading, $Q(x)$ is the shear, $M(x)$ is the bending\n",
    "moment, $\\psi(x)$ is the section rotation, and $EI$ is the flexural stiffness (regarded \n",
    "hereinafter as constant along the beam length).\n",
    "\n",
    "<img src=\"images/dynamic_beam.png\" alt=\"Dynamic beam equilibrium\" width=\"360px\"/>\n",
    "\n",
    "Disregarding shear strains, $\\gamma(x) = 0$, implies that the section rotation is approximated as:\n",
    "\n",
    "$$  \\psi \\approx -w^\\prime(x) $$\n",
    "\n",
    "what implies that:\n",
    "\n",
    "\\begin{align*}\n",
    " EI w^{\\prime\\prime} &\\approx -M(x) \\\\\n",
    " EI w^{\\prime\\prime\\prime\\prime} &\\approx  q(x)\n",
    "\\end{align*}\n",
    "\n",
    "where $w(x)$ is the beam transversal displacement, also called _elastic line_. The solution of this\n",
    "last differential equation is straighforward once the load $q(x)$ and the boundary conditions (two\n",
    "for each beam extremity) are specified. \n",
    "\n",
    "We shall now include the inertial forces in these equations, as well as regard now the section mean shear strain,\n",
    "\n",
    "$$ \\gamma(x) = \\psi(x) + w^\\prime(x) = \\frac{Q(x)}{GA_{\\rm s}}$$\n",
    "\n",
    "as relevant, where $GA_{\\rm s}$ is the shear stiffness (also regarded hereinafter as constant along\n",
    "the beam length). Although $\\gamma(x)$ is indeed negligible for actual slender beams, \n",
    "the following analysis may also be applied to other slender structures, like\n",
    "tall buildings, trusses, etc., for which we may define _equivalent stiffnesses_, \n",
    "$\\left(EI\\right)_{\\rm eq}$ and $\\left(GA_{\\rm s}\\right)_{\\rm eq}$.\n",
    "The dynamic equilibrium equations now become:\n",
    "\n",
    "\\begin{align*}\n",
    " Q^\\prime &= -q +   \\mu \\ddot{ w}   \\\\\n",
    " M^\\prime &=  Q - i_\\mu \\ddot{\\psi}\n",
    "\\end{align*}\n",
    "\n",
    "where $\\mu$ is the beam mass per unit length and $i_\\mu$ is the cross section rotational inertia\n",
    "per unit length. Derivating the equation for $\\gamma$ and replacing the solution \n",
    "$EI \\psi^{\\prime} = M(x)$ gives the elastic line equation accounting for shear strains:\n",
    "\n",
    "$$ w^{\\prime\\prime} = -\\frac{M}{EI} + \\frac{Q^\\prime}{GA_{\\rm s}} $$\n",
    "\n",
    "Now we replace the shear (with inertial loads):\n",
    "\n",
    "$$ w^{\\prime\\prime} = -\\frac{M}{EI} + \\frac{-q +   \\mu \\ddot{ w}}{GA_{\\rm s}} $$\n",
    "\n",
    "and derivate the whole equation replacing for $M^\\prime$:\n",
    "\n",
    "$$ w^{\\prime\\prime\\prime} = \\frac{i_\\mu \\ddot{\\psi} - Q}{EI} + \\frac{\\mu \\ddot{w}^\\prime - q^\\prime}{GA_{\\rm s}} $$\n",
    "\n",
    "The rotational inertia, $i_\\mu$, may be safely disregarded, for the rotations are usually very small.\n",
    "Derivating the equation a last time and replacing for $Q^\\prime$ finally gives:\n",
    "\n",
    "$$ EI w^{\\prime\\prime\\prime\\prime} = q - \\mu \\ddot{ w} + \n",
    "\\frac{EI}{GA_{\\rm s}} \\, \\left(\\mu \\ddot{ w}^{\\prime\\prime} - q^{\\prime\\prime} \\right) $$\n",
    "\n",
    "which is the dynamic elastic line equation for a constant section beam under forced vibration due to \n",
    "dynamic load $q(x,t)$, with shear deformation accounted for (although plane section hypothesis still kept along). \n",
    "The last term may be disregarded whenever the shear stiffness is much larger that the bending stiffness.\n"
   ]
  },
  {
   "cell_type": "markdown",
   "metadata": {},
   "source": [
    "## 2. Free vibration solution <a name=\"section_2\"></a> \n",
    "\n",
    "In this section, we take the vibrating beam equation derived above, disregard the shear deformation and look for\n",
    "free vibration solution, which implies that $q(x, t) = 0$. The beam equation becomes simply:\n",
    "\n",
    "$$ EI w^{\\prime\\prime\\prime\\prime} = - \\mu \\ddot{w} $$\n",
    "\n",
    "To solve this equation we separate the time and space independent variables through the hypothesis:\n",
    "\n",
    "$$ w(x,t) = \\varphi(x)\\,  \\sin \\omega t $$\n",
    "\n",
    "which is pretty much alike we have previously done for multiple degrees of freedom systems.\n",
    "The free vibration equilibrium equation then become:\n",
    "\n",
    "$$ \\varphi^{\\prime\\prime\\prime\\prime} - p^4 \\varphi = 0 $$\n",
    "\n",
    "where we have defined:\n",
    "\n",
    "$$ p^4 = \\left(\\frac{\\mu}{EI}\\right) \\omega^2 $$\n",
    "\n",
    "It can be shown that, in the general case, the space dependent function $\\phi(x)$ has the form:\n",
    "\n",
    "$$ \\varphi(x) = C_1 \\left(\\cos px + \\cosh px \\right) + \n",
    "                C_2 \\left(\\cos px - \\cosh px \\right) + \n",
    "                C_3 \\left(\\sin px + \\sinh px \\right) + \n",
    "                C_4 \\left(\\sin px - \\sinh px \\right) $$  \n",
    "\n",
    "The corresponding space derivatives will be required to apply the boundary conditions:\n",
    "\n",
    "\\begin{align*}\n",
    "\\varphi^\\prime(x) = p^1&\\left[C_1 \\left(-\\sin px + \\sinh px \\right) + \n",
    "                              C_2 \\left(-\\sin px - \\sinh px \\right) + \n",
    "                              C_3 \\left( \\cos px + \\cosh px \\right) + \n",
    "                              C_4 \\left( \\cos px - \\cosh px \\right)\\right] \\\\\n",
    "\\varphi^{\\prime\\prime}(x) = p^2&\\left[C_1 \\left(-\\cos px + \\cosh px \\right) + \n",
    "                                      C_2 \\left(-\\cos px - \\cosh px \\right) + \n",
    "                                      C_3 \\left(-\\sin px + \\sinh px \\right) + \n",
    "                                      C_4 \\left(-\\sin px - \\sinh px \\right)\\right] \\\\\n",
    "\\varphi^{\\prime\\prime\\prime}(x) = p^3&\\left[C_1 \\left( \\sin px + \\sinh px \\right) + \n",
    "                                            C_2 \\left( \\sin px - \\sinh px \\right) + \n",
    "                                            C_3 \\left(-\\cos px + \\cosh px \\right) + \n",
    "                                            C_4 \\left(-\\cos px - \\cosh px \\right)\\right] \\\\\n",
    "\\varphi^{\\prime\\prime\\prime\\prime}(x) = p^4&\\left[C_1 \\left( \\cos px + \\cosh px \\right) + \n",
    "                                                  C_2 \\left( \\cos px - \\cosh px \\right) + \n",
    "                                                  C_3 \\left( \\sin px + \\sinh px \\right) + \n",
    "                                                  C_4 \\left( \\sin px - \\sinh px \\right)\\right]\n",
    "\\end{align*}\n",
    "\n",
    "The last equation above proves that the assumed general solution is correct.\n",
    "\n",
    "Now, to have a particular solution for the vibrating beam the kinematic boundary conditions must be applied.\n",
    "Let us assume a cantilever beam, fixed at the left end ($x = 0$) and free at the right end ($x = L$).\n",
    "\n",
    "<img src=\"images/cantilever_beam.png\" alt=\"Cantilever beam\" width=\"360px\"/>\n",
    "\n",
    "The corresponding boundary conditions are:\n",
    "\n",
    "\\begin{align*}\n",
    " \\varphi(0)                      &= 0 \\\\\n",
    " \\varphi^ \\prime(0)              &= 0 \\\\\n",
    " \\varphi^{\\prime\\prime}(L)       &= 0 \\\\\n",
    " \\varphi^{\\prime\\prime\\prime}(L) &= 0\n",
    "\\end{align*}\n",
    "\n",
    "The two last conditions implies that bending moment and shear force are zero at the right end, respectively.\n",
    "Applying these conditions at the corresponding derivatives:\n",
    "\n",
    "\\begin{align*}\n",
    "\\varphi(0) &=  C_1 \\left( 1 + 1 \\right) + \n",
    "               C_2 \\left( 1 - 1 \\right) + \n",
    "               C_3 \\left( 0 + 0 \\right) + \n",
    "               C_4 \\left( 0 - 0 \\right) = 0\\\\\n",
    "\\varphi^\\prime(0) &= p \\left[C_1 \\left(-0 + 0 \\right) + \n",
    "                             C_2 \\left(-0 - 0 \\right) + \n",
    "                             C_3 \\left( 1 + 1 \\right) + \n",
    "                             C_4 \\left( 1 - 1 \\right)\\right] = 0\n",
    "\\end{align*}\n",
    "\n",
    "which implies that $C_1 = 0$ and $C_3 = 0$. The other two conditions become:\n",
    "                              \n",
    "\\begin{align*}                              \n",
    "\\varphi^{\\prime\\prime}(L) &= p^2 \\left[C_2 \\left(-\\cos pL - \\cosh pL \\right) + \n",
    "                                       C_4 \\left(-\\sin pL - \\sinh pL \\right)\\right] = 0\\\\\n",
    "\\varphi^{\\prime\\prime\\prime}(L) &= p^3 \\left[C_2 \\left( \\sin pL - \\sinh pL \\right) + \n",
    "                                             C_4 \\left(-\\cos pL - \\cosh pL \\right)\\right] = 0\n",
    "\\end{align*}\n",
    "\n",
    "These two equations can be put into matrix form as:\n",
    "\n",
    "$$ \\left[ \\begin{array}{cc}\n",
    "                 \\left(-\\cos pL - \\cosh pL \\right) & \\left(-\\sin pL - \\sinh pL \\right) \\\\\n",
    "                 \\left( \\sin pL - \\sinh pL \\right) & \\left(-\\cos pL - \\cosh pL \\right) \n",
    "          \\end{array} \\right] \n",
    " \\left[ \\begin{array}{c}\n",
    "                  C_2 \\\\\n",
    "                  C_4 \n",
    "        \\end{array} \\right]  =                \n",
    " \\left[ \\begin{array}{c}\n",
    "                  0 \\\\\n",
    "                  0 \n",
    "        \\end{array} \\right] $$\n",
    "        \n",
    "In order to obtain a non trivial (non zero) solution for the unknown coefficients $C_2$ and $C_4$, \n",
    "the determinant of the coefficients matrix must be zero. This condition yields a nonlinear equation \n",
    "to be solved for $pL$. We can use the HP Prime for this purpose, as shown in the figure below.\n",
    "\n",
    "<table>\n",
    " <tr>\n",
    "   <td><img src=\"images/det_cantilever_1.jpg\" alt=\"HP Prime determinant\" width=\"320px\"/></td>\n",
    "   <td><img src=\"images/det_cantilever_2.jpg\" alt=\"HP Prime cantilever\"  width=\"320px\"/></td>\n",
    " </tr>\n",
    "</table> \n",
    "\n",
    "There will be infinite solutions $\\alpha_k = \\left( pL \\right)_k$, $k = 1, 2, \\dots, \\infty$, \n",
    "each one associated to a vibration frequency and a modal shape,\n",
    "$\\left[ \\omega_k, \\varphi_k(x) \\right]$. The natural vibration frequencies are obtained\n",
    "by recalling the definition of $p$, what finally gives:\n",
    "\n",
    "$$ \\omega_k = \\left( \\frac{\\alpha_k}{L} \\right) ^2 \\sqrt{\\frac{EI}{\\mu}}$$\n",
    "\n",
    "For instance, the fundamental vibration frequency, $f_{\\rm n}$, is given by:\n",
    "\n",
    "$$ f_{\\rm n} \\approx \\frac{1}{2\\pi} \\left( \\frac{1.8751}{L} \\right) ^2 \\sqrt{\\frac{EI}{\\mu}}$$\n",
    "\n",
    "which is a very useful formula for estimating the fundamental frequency of slender piles and towers\n",
    "with constant cross section.\n"
   ]
  },
  {
   "cell_type": "markdown",
   "metadata": {},
   "source": [
    "## 3. Vibration modes and frequencies <a name=\"section_3\"></a> \n",
    "\n",
    "The table below was taken from a _Sonderausdruck_ (special edition) of the german _Betonkalender_ \n",
    "(concrete almanac), 1988. It summarizes the solutions for some other support conditions of slender beams. \n",
    "If more accuracy is desiredfor the $\\alpha_k$ constants, one can solve the so-called \n",
    "_characteristic equation_ with the help of a calculator like the HP Prime, ou HP 50G.\n",
    "\n",
    "<img src=\"images/beams.png\" alt=\"Beam solutions\" width=\"640px\"/>\n",
    "\n",
    "The characteristic equations are the determinants of respective coefficients matrix, \n",
    "which can also be solved with the ``fsolve()`` method from ``scipy``, as shown below.\n"
   ]
  },
  {
   "cell_type": "code",
   "execution_count": 2,
   "metadata": {},
   "outputs": [
    {
     "name": "stdout",
     "output_type": "stream",
     "text": [
      "Cantilever beam frequency parameter: 1.8751040687119611\n"
     ]
    }
   ],
   "source": [
    "def char_eq(x):\n",
    "    \n",
    "#   x = x[0]\n",
    "#   A = np.array([[-np.cos(x)-np.cosh(x), -np.sin(x)-np.sinh(x)], \n",
    "#                 [ np.sin(x)-np.sinh(x), -np.cos(x)-np.cosh(x)]])\n",
    "#\n",
    "#   return np.linalg.det(A)              # from coefficientes matrix\n",
    "\n",
    "    return np.cos(x)*np.cosh(x) + 1      # from characteristic equation\n",
    "\n",
    "#-----------------------------------------------------------------------\n",
    "\n",
    "from scipy.optimize import fsolve\n",
    "\n",
    "ak = fsolve(char_eq, 1.8)\n",
    "\n",
    "print('Cantilever beam frequency parameter: {0}'.format(ak[0]))\n"
   ]
  },
  {
   "cell_type": "markdown",
   "metadata": {},
   "source": [
    "Observe that the result is exactly the same (within the required precision) as previously obtained with the \n",
    "HP Prime. One can use directly the characteristic equation, or one can program the determinant calculation\n",
    "using ``np.linalg.det()`` in the user function ``char_eq`` above.\n"
   ]
  },
  {
   "cell_type": "markdown",
   "metadata": {},
   "source": [
    "## 4. Solution by approximation <a name=\"section_4\"></a> \n",
    "\n",
    "\n",
    "<img src=\"images/simply_supported.png\" alt=\"simply supported beam\" width=\"400px\"/>\n"
   ]
  },
  {
   "cell_type": "code",
   "execution_count": 7,
   "metadata": {},
   "outputs": [
    {
     "data": {
      "image/png": "[encoded data removed]",
      "text/plain": [
       "<Figure size 576x144 with 1 Axes>"
      ]
     },
     "metadata": {
      "needs_background": "light"
     },
     "output_type": "display_data"
    }
   ],
   "source": [
    "L  = 1         # bar length (m)\n",
    "EI = 17.96     # bending stiffness (Nm2)\n",
    "mu = 0.260     # mass per unity length (kg/m)\n",
    "q  = mu*9.81   # distributed load is self weight (N/m)\n",
    "\n",
    "# Proposed modal shape for first mode\n",
    "x  = np.linspace(0, L, 200)\n",
    "qk = np.sin(np.pi*x/L)\n",
    "\n",
    "plt.figure(1, figsize=(8,2))\n",
    "plt.plot(x, qk)\n",
    "    \n",
    "plt.xlim( 0.0, L  );  plt.xlabel('x');\n",
    "plt.ylim(-0.5, 1.5);  plt.ylabel('phi(x)');\n",
    "plt.title('Proposed modal shape')\n",
    "plt.grid(True)\n"
   ]
  },
  {
   "cell_type": "code",
   "execution_count": 8,
   "metadata": {},
   "outputs": [
    {
     "name": "stdout",
     "output_type": "stream",
     "text": [
      "Available fundamental vibration frequency:    82.0 rad/s\n",
      "Modal mass (integrated over bar length):      25.9 kg\n",
      "Modal stiffness (from mass and frequency):  174072 N/m\n"
     ]
    }
   ],
   "source": [
    "wk = np.sqrt(EI/mu)*(np.pi/L)**2\n",
    "Mk = np.sum(mu*qk*qk)\n",
    "Kk = wk*wk*Mk\n",
    "\n",
    "print('Available fundamental vibration frequency: {0:7.1f} rad/s'.format(wk))\n",
    "print('Modal mass (integrated over bar length):   {0:7.1f} kg'.format(Mk))\n",
    "print('Modal stiffness (from mass and frequency): {0:7.0f} N/m'.format(Kk))\n"
   ]
  },
  {
   "cell_type": "code",
   "execution_count": 12,
   "metadata": {},
   "outputs": [
    {
     "name": "stdout",
     "output_type": "stream",
     "text": [
      "Maximum displacement approximation: 1.8562mm\n",
      "Theoretical maximum displacement:   1.8492mm\n"
     ]
    }
   ],
   "source": [
    "Fk = np.sum(q*qk)         # modal force\n",
    "uk = Fk/Kk                # modal displacement\n",
    "up = np.max(uk*qk)        # maximum displacement\n",
    "\n",
    "u0 = (5*q*L**4)/(384*EI)  # theoretical maximum displacement\n",
    "\n",
    "print('Maximum displacement approximation: {0:6.4f}mm'.format(1000*up))\n",
    "print('Theoretical maximum displacement:   {0:6.4f}mm'.format(1000*u0))\n"
   ]
  },
  {
   "cell_type": "code",
   "execution_count": 13,
   "metadata": {},
   "outputs": [
    {
     "name": "stdout",
     "output_type": "stream",
     "text": [
      "Fundamental frequency from Rayleigh quotient:    82.0 rad/s\n"
     ]
    }
   ],
   "source": [
    "u    = uk*qk\n",
    "V    = np.sum(q*u)\n",
    "Tref = np.sum(mu*u*u)\n",
    "wk   = np.sqrt(V/Tref)\n",
    "\n",
    "print('Fundamental frequency from Rayleigh quotient: {0:7.1f} rad/s'.format(wk))\n"
   ]
  },
  {
   "cell_type": "markdown",
   "metadata": {},
   "source": [
    "## 5. Assignments <a name=\"section_5\"></a> \n"
   ]
  },
  {
   "cell_type": "code",
   "execution_count": null,
   "metadata": {},
   "outputs": [],
   "source": []
  }
 ],
 "metadata": {
  "kernelspec": {
   "display_name": "Python 3",
   "language": "python",
   "name": "python3"
  },
  "language_info": {
   "codemirror_mode": {
    "name": "ipython",
    "version": 3
   },
   "file_extension": ".py",
   "mimetype": "text/x-python",
   "name": "python",
   "nbconvert_exporter": "python",
   "pygments_lexer": "ipython3",
   "version": "3.7.6"
  }
 },
 "nbformat": 4,
 "nbformat_minor": 2
}
